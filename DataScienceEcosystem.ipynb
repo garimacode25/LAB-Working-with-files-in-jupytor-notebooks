{
 "cells": [
  {
   "cell_type": "markdown",
   "id": "dddf25bd",
   "metadata": {},
   "source": [
    "# DATA SCIENCE TOOLS AND ECOSYSTEM\n",
    "\n",
    "In this notebook , Datasciens tools and ecosystem are summarized\n",
    "\n",
    "\n",
    "\n",
    "\n"
   ]
  },
  {
   "cell_type": "markdown",
   "id": "58664525",
   "metadata": {},
   "source": [
    "Some of the populer language which use Data scientist are listed below:\n",
    "\n",
    "1.Python\n",
    "2.Ruby\n",
    "3.R\n",
    "\n"
   ]
  },
  {
   "cell_type": "markdown",
   "id": "25203b44",
   "metadata": {},
   "source": [
    "some commonly  library used by datascientist includes:\n",
    "\n",
    "1.numpy\n",
    "2.pandas\n",
    "3.SciKit-Learn\n",
    "4.Matplotlib\n",
    "5.SciPy"
   ]
  },
  {
   "cell_type": "markdown",
   "id": "eda9480c",
   "metadata": {},
   "source": [
    "\n",
    "| Datascience tool |\n",
    "| ---------------- |\n",
    "| pycharm|\n",
    "|jupitorlav|\n",
    "|vscode|\n"
   ]
  },
  {
   "cell_type": "code",
   "execution_count": 3,
   "id": "fee01b4e",
   "metadata": {},
   "outputs": [
    {
     "data": {
      "text/plain": [
       "17"
      ]
     },
     "execution_count": 3,
     "metadata": {},
     "output_type": "execute_result"
    }
   ],
   "source": [
    "#this is a example of simple arithmetic expression to multiply and then add integers\n",
    "AM= (3*4)+5\n",
    "AM\n"
   ]
  },
  {
   "cell_type": "code",
   "execution_count": 7,
   "id": "56e7273a",
   "metadata": {},
   "outputs": [
    {
     "data": {
      "text/plain": [
       "3"
      ]
     },
     "execution_count": 7,
     "metadata": {},
     "output_type": "execute_result"
    }
   ],
   "source": [
    "# this code convert 200 minutes into hours\n",
    "def convert(min):\n",
    "    converter = min//(60)\n",
    "    return converter\n",
    "convert(200)"
   ]
  },
  {
   "cell_type": "markdown",
   "id": "9f1c2859",
   "metadata": {},
   "source": [
    "# Objective:\n",
    "- PYTHON \n",
    "- SQL\n",
    "- R\n",
    "- JULIA\n",
    "- JAVA\n",
    "\n"
   ]
  },
  {
   "cell_type": "markdown",
   "id": "cc9dde6d",
   "metadata": {},
   "source": [
    "## Author\n",
    " \n",
    "Garima Rajpoot\n"
   ]
  },
  {
   "cell_type": "code",
   "execution_count": null,
   "id": "a6b948c2",
   "metadata": {},
   "outputs": [],
   "source": []
  }
 ],
 "metadata": {
  "kernelspec": {
   "display_name": "Python 3 (ipykernel)",
   "language": "python",
   "name": "python3"
  },
  "language_info": {
   "codemirror_mode": {
    "name": "ipython",
    "version": 3
   },
   "file_extension": ".py",
   "mimetype": "text/x-python",
   "name": "python",
   "nbconvert_exporter": "python",
   "pygments_lexer": "ipython3",
   "version": "3.10.5"
  }
 },
 "nbformat": 4,
 "nbformat_minor": 5
}
